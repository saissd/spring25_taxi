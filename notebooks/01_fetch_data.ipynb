{
 "cells": [
  {
   "cell_type": "code",
   "execution_count": 1,
   "id": "2995ade3-9042-49b1-87a0-1e486bf5eba0",
   "metadata": {},
   "outputs": [
    {
     "name": "stdout",
     "output_type": "stream",
     "text": [
      "Requirement already satisfied: pandas in /home/saideshith1905/venv3/lib/python3.12/site-packages (2.2.3)\n",
      "Requirement already satisfied: numpy>=1.26.0 in /home/saideshith1905/venv3/lib/python3.12/site-packages (from pandas) (2.2.3)\n",
      "Requirement already satisfied: python-dateutil>=2.8.2 in /home/saideshith1905/venv3/lib/python3.12/site-packages (from pandas) (2.9.0.post0)\n",
      "Requirement already satisfied: pytz>=2020.1 in /home/saideshith1905/venv3/lib/python3.12/site-packages (from pandas) (2025.1)\n",
      "Requirement already satisfied: tzdata>=2022.7 in /home/saideshith1905/venv3/lib/python3.12/site-packages (from pandas) (2025.1)\n",
      "Requirement already satisfied: six>=1.5 in /home/saideshith1905/venv3/lib/python3.12/site-packages (from python-dateutil>=2.8.2->pandas) (1.17.0)\n",
      "Note: you may need to restart the kernel to use updated packages.\n"
     ]
    }
   ],
   "source": [
    "pip install pandas"
   ]
  },
  {
   "cell_type": "code",
   "execution_count": 2,
   "id": "b864df1f-3b61-4d10-b63e-a0e0bb7a2acd",
   "metadata": {},
   "outputs": [],
   "source": [
    "from pathlib import Path\n",
    "import pandas as pd\n",
    "import requests\n",
    "\n",
    "def fetch_raw_data(year: int, month: int) -> str:\n",
    "    url = f\"https://d37ci6vzurychx.cloudfront.net/trip-data/yellow_tripdata_{year}-{month:02}.parquet\"\n",
    "    response = requests.get(url)\n",
    "    if response.status_code == 200:\n",
    "        # Use pathlib to construct the path\n",
    "        path = Path(\"..\") / \"data\" / \"raw\" / f\"rides_{year}_{month:02}.parquet\"\n",
    "        # Ensure the parent directory exists\n",
    "        path.parent.mkdir(parents=True, exist_ok=True)\n",
    "        # Write the content to the file\n",
    "        path.write_bytes(response.content)\n",
    "        print(f\"Successfully fetched: {str(path)}\")\n",
    "        return str(path)\n",
    "    else:\n",
    "        raise Exception(f\"{url} is not available\")\n"
   ]
  },
  {
   "cell_type": "code",
   "execution_count": 3,
   "id": "ea3d5f04-c44f-4f2f-9d32-64508e212d29",
   "metadata": {},
   "outputs": [
    {
     "name": "stdout",
     "output_type": "stream",
     "text": [
      "Successfully fetched: ../data/raw/rides_2023_01.parquet\n"
     ]
    },
    {
     "data": {
      "text/plain": [
       "'../data/raw/rides_2023_01.parquet'"
      ]
     },
     "execution_count": 3,
     "metadata": {},
     "output_type": "execute_result"
    }
   ],
   "source": [
    "fetch_raw_data(2023, 1)"
   ]
  },
  {
   "cell_type": "code",
   "execution_count": null,
   "id": "03fc6e34-67b4-4116-b333-9bbcfae3bbbd",
   "metadata": {},
   "outputs": [],
   "source": []
  }
 ],
 "metadata": {
  "kernelspec": {
   "display_name": "Python 3 (ipykernel)",
   "language": "python",
   "name": "python3"
  },
  "language_info": {
   "codemirror_mode": {
    "name": "ipython",
    "version": 3
   },
   "file_extension": ".py",
   "mimetype": "text/x-python",
   "name": "python",
   "nbconvert_exporter": "python",
   "pygments_lexer": "ipython3",
   "version": "3.12.3"
  }
 },
 "nbformat": 4,
 "nbformat_minor": 5
}
